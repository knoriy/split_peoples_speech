{
 "cells": [
  {
   "cell_type": "code",
   "execution_count": 7,
   "metadata": {},
   "outputs": [],
   "source": [
    "import os\n",
    "import glob\n",
    "import pandas as pd\n",
    "import textgrids\n",
    "import tqdm\n",
    "from utils import flac_to_wav"
   ]
  },
  {
   "cell_type": "markdown",
   "metadata": {},
   "source": [
    "# Create Subset json"
   ]
  },
  {
   "cell_type": "markdown",
   "metadata": {},
   "source": [
    "## Keep files in subset"
   ]
  },
  {
   "cell_type": "code",
   "execution_count": 15,
   "metadata": {},
   "outputs": [],
   "source": [
    "import ast\n",
    "\n",
    "def get_subset_df(json_dir=None):\n",
    "    if not json_dir:\n",
    "        json_dir = '/home/knoriy/Documents/laion/split_peoples_speech/flac_train_manifest.jsonl'\n",
    "\n",
    "    with open(json_dir, 'r') as json_file:\n",
    "        json_list = list(json_file)\n",
    "\n",
    "    df = pd.DataFrame.from_dict(json_list)\n",
    "    df[0] = df[0].apply(lambda x: ast.literal_eval(x))\n",
    "\n",
    "    for keys in df[0][0].keys():\n",
    "        df[keys] = [path[0][keys] for path in df.iloc()]\n",
    "\n",
    "    subset = glob.glob('/home/knoriy/Documents/laion/split_peoples_speech/mini_subset/**/*.flac', recursive=True)\n",
    "    subset = [os.path.join(*(dir.split(os.path.sep)[7:])) for dir in subset]\n",
    "\n",
    "    subset_df = df[df['audio_filepath'].isin(subset)].reset_index(drop=True)\n",
    "    subset_df = subset_df.drop(0, axis=1)\n",
    "\n",
    "    return subset_df\n",
    "\n",
    "df = get_subset_df()\n",
    "df.to_csv('/home/knoriy/Documents/laion/split_peoples_speech/mini_subset.tsv', sep='\\t', header=None, index=False)"
   ]
  },
  {
   "cell_type": "markdown",
   "metadata": {},
   "source": [
    "# prepare MFA"
   ]
  },
  {
   "cell_type": "code",
   "execution_count": 32,
   "metadata": {},
   "outputs": [],
   "source": [
    "# Clean old wavs ONLY FOR TESTING\n",
    "import glob\n",
    "\n",
    "old_wav_path = glob.glob(f'/home/knoriy/Documents/laion/split_peoples_speech/mini_subset/**/*.wav', recursive=True)\n",
    "for wav_path in old_wav_path:\n",
    "    os.remove(wav_path)\n",
    "\n",
    "# old_txt_path = glob.glob(f'/home/knoriy/Documents/laion/split_peoples_speech/subset/**/*.txt', recursive=True)\n",
    "# for txt_path in old_txt_path:\n",
    "#     os.remove(txt_path)\n",
    "\n",
    "# old_txt_path = glob.glob(f'/home/knoriy/Documents/laion/split_peoples_speech/subset_split/**/*.txt', recursive=True)\n",
    "# for txt_path in old_txt_path:\n",
    "#     os.remove(txt_path)"
   ]
  },
  {
   "cell_type": "markdown",
   "metadata": {},
   "source": [
    "# Tar loader"
   ]
  },
  {
   "cell_type": "markdown",
   "metadata": {},
   "source": [
    "# ToDo\n",
    "- [ ] Download and extract single or batch of files from aws\n",
    "- [ ] Process for MFA\n",
    "- [ ] Generate textgrid\n",
    "- [ ] Split audio and upload to aws s3"
   ]
  },
  {
   "cell_type": "code",
   "execution_count": 1,
   "metadata": {},
   "outputs": [],
   "source": [
    "import tarfile\n",
    "import shutil\n",
    "from main import *\n",
    "from utils import generate_txt\n",
    "\n",
    "import warnings"
   ]
  },
  {
   "cell_type": "code",
   "execution_count": 2,
   "metadata": {},
   "outputs": [],
   "source": [
    "filename = '/home/knoriy/Documents/laion/split_peoples_speech/mini_subset.tar.xz'\n",
    "base_pps_dataset_path = '/home/knoriy/Documents/laion/split_peoples_speech/'\n",
    "chunk = 5\n"
   ]
  },
  {
   "cell_type": "code",
   "execution_count": 3,
   "metadata": {},
   "outputs": [
    {
     "name": "stdout",
     "output_type": "stream",
     "text": [
      "                                          audio_filepath  duration  shard_id  \\\n",
      "0      Peters_Twp_DOT__School_Board_-_Policy_Committe...     14.89        -1   \n",
      "1      Peters_Twp_DOT__School_Board_-_Policy_Committe...      6.24        -1   \n",
      "2      Peters_Twp_DOT__School_Board_-_Policy_Committe...     14.86        -1   \n",
      "3      Peters_Twp_DOT__School_Board_-_Policy_Committe...     14.68        -1   \n",
      "4      Peters_Twp_DOT__School_Board_-_Finance_and_Bui...     14.95        -1   \n",
      "...                                                  ...       ...       ...   \n",
      "46075           mnn_514_4914/514_4914_DOT_mp3_00006.flac     11.64        -1   \n",
      "46076           mnn_514_4882/514_4882_DOT_mp3_00025.flac     14.82        -1   \n",
      "46077           mnn_514_4885/514_4885_DOT_mp3_00006.flac     14.86        -1   \n",
      "46078           mnn_514_4788/514_4788_DOT_mp3_00015.flac     15.00        -1   \n",
      "46079           mnn_514_4904/514_4904_DOT_mp3_00019.flac     14.82        -1   \n",
      "\n",
      "                                                    text  \n",
      "0      are there any other comments but you would don...  \n",
      "1      i'm wondering what the references to policy ei...  \n",
      "2      that we create a whole volunteer policy last y...  \n",
      "3      bright line test that if you were alone with a...  \n",
      "4      a million dollars in our revenue with the two ...  \n",
      "...                                                  ...  \n",
      "46075  barbarian scythian slave free but christ is al...  \n",
      "46076  details of life but to focus upon the calmness...  \n",
      "46077  the cover on top of the tent as the lord had c...  \n",
      "46078  and was buried and rose again in the third day...  \n",
      "46079  there for these by sending down your spirit up...  \n",
      "\n",
      "[46080 rows x 4 columns]\n",
      "                                          audio_filepath  duration  shard_id  \\\n",
      "0      Peters_Twp_DOT__School_Board_-_Policy_Committe...     14.89        -1   \n",
      "1      Peters_Twp_DOT__School_Board_-_Policy_Committe...      6.24        -1   \n",
      "2      Peters_Twp_DOT__School_Board_-_Policy_Committe...     14.86        -1   \n",
      "3      Peters_Twp_DOT__School_Board_-_Policy_Committe...     14.68        -1   \n",
      "4      Peters_Twp_DOT__School_Board_-_Finance_and_Bui...     14.95        -1   \n",
      "...                                                  ...       ...       ...   \n",
      "46075           mnn_514_4914/514_4914_DOT_mp3_00006.flac     11.64        -1   \n",
      "46076           mnn_514_4882/514_4882_DOT_mp3_00025.flac     14.82        -1   \n",
      "46077           mnn_514_4885/514_4885_DOT_mp3_00006.flac     14.86        -1   \n",
      "46078           mnn_514_4788/514_4788_DOT_mp3_00015.flac     15.00        -1   \n",
      "46079           mnn_514_4904/514_4904_DOT_mp3_00019.flac     14.82        -1   \n",
      "\n",
      "                                                    text  \n",
      "0      are there any other comments but you would don...  \n",
      "1      i'm wondering what the references to policy ei...  \n",
      "2      that we create a whole volunteer policy last y...  \n",
      "3      bright line test that if you were alone with a...  \n",
      "4      a million dollars in our revenue with the two ...  \n",
      "...                                                  ...  \n",
      "46075  barbarian scythian slave free but christ is al...  \n",
      "46076  details of life but to focus upon the calmness...  \n",
      "46077  the cover on top of the tent as the lord had c...  \n",
      "46078  and was buried and rose again in the third day...  \n",
      "46079  there for these by sending down your spirit up...  \n",
      "\n",
      "[46080 rows x 4 columns]\n",
      "                                          audio_filepath  duration  shard_id  \\\n",
      "0      Peters_Twp_DOT__School_Board_-_Policy_Committe...     14.89        -1   \n",
      "1      Peters_Twp_DOT__School_Board_-_Policy_Committe...      6.24        -1   \n",
      "2      Peters_Twp_DOT__School_Board_-_Policy_Committe...     14.86        -1   \n",
      "3      Peters_Twp_DOT__School_Board_-_Policy_Committe...     14.68        -1   \n",
      "4      Peters_Twp_DOT__School_Board_-_Finance_and_Bui...     14.95        -1   \n",
      "...                                                  ...       ...       ...   \n",
      "46075           mnn_514_4914/514_4914_DOT_mp3_00006.flac     11.64        -1   \n",
      "46076           mnn_514_4882/514_4882_DOT_mp3_00025.flac     14.82        -1   \n",
      "46077           mnn_514_4885/514_4885_DOT_mp3_00006.flac     14.86        -1   \n",
      "46078           mnn_514_4788/514_4788_DOT_mp3_00015.flac     15.00        -1   \n",
      "46079           mnn_514_4904/514_4904_DOT_mp3_00019.flac     14.82        -1   \n",
      "\n",
      "                                                    text  \n",
      "0      are there any other comments but you would don...  \n",
      "1      i'm wondering what the references to policy ei...  \n",
      "2      that we create a whole volunteer policy last y...  \n",
      "3      bright line test that if you were alone with a...  \n",
      "4      a million dollars in our revenue with the two ...  \n",
      "...                                                  ...  \n",
      "46075  barbarian scythian slave free but christ is al...  \n",
      "46076  details of life but to focus upon the calmness...  \n",
      "46077  the cover on top of the tent as the lord had c...  \n",
      "46078  and was buried and rose again in the third day...  \n",
      "46079  there for these by sending down your spirit up...  \n",
      "\n",
      "[46080 rows x 4 columns]\n",
      "                                          audio_filepath  duration  shard_id  \\\n",
      "0      Peters_Twp_DOT__School_Board_-_Policy_Committe...     14.89        -1   \n",
      "1      Peters_Twp_DOT__School_Board_-_Policy_Committe...      6.24        -1   \n",
      "2      Peters_Twp_DOT__School_Board_-_Policy_Committe...     14.86        -1   \n",
      "3      Peters_Twp_DOT__School_Board_-_Policy_Committe...     14.68        -1   \n",
      "4      Peters_Twp_DOT__School_Board_-_Finance_and_Bui...     14.95        -1   \n",
      "...                                                  ...       ...       ...   \n",
      "46075           mnn_514_4914/514_4914_DOT_mp3_00006.flac     11.64        -1   \n",
      "46076           mnn_514_4882/514_4882_DOT_mp3_00025.flac     14.82        -1   \n",
      "46077           mnn_514_4885/514_4885_DOT_mp3_00006.flac     14.86        -1   \n",
      "46078           mnn_514_4788/514_4788_DOT_mp3_00015.flac     15.00        -1   \n",
      "46079           mnn_514_4904/514_4904_DOT_mp3_00019.flac     14.82        -1   \n",
      "\n",
      "                                                    text  \n",
      "0      are there any other comments but you would don...  \n",
      "1      i'm wondering what the references to policy ei...  \n",
      "2      that we create a whole volunteer policy last y...  \n",
      "3      bright line test that if you were alone with a...  \n",
      "4      a million dollars in our revenue with the two ...  \n",
      "...                                                  ...  \n",
      "46075  barbarian scythian slave free but christ is al...  \n",
      "46076  details of life but to focus upon the calmness...  \n",
      "46077  the cover on top of the tent as the lord had c...  \n",
      "46078  and was buried and rose again in the third day...  \n",
      "46079  there for these by sending down your spirit up...  \n",
      "\n",
      "[46080 rows x 4 columns]\n",
      "                                          audio_filepath  duration  shard_id  \\\n",
      "0      Peters_Twp_DOT__School_Board_-_Policy_Committe...     14.89        -1   \n",
      "1      Peters_Twp_DOT__School_Board_-_Policy_Committe...      6.24        -1   \n",
      "2      Peters_Twp_DOT__School_Board_-_Policy_Committe...     14.86        -1   \n",
      "3      Peters_Twp_DOT__School_Board_-_Policy_Committe...     14.68        -1   \n",
      "4      Peters_Twp_DOT__School_Board_-_Finance_and_Bui...     14.95        -1   \n",
      "...                                                  ...       ...       ...   \n",
      "46075           mnn_514_4914/514_4914_DOT_mp3_00006.flac     11.64        -1   \n",
      "46076           mnn_514_4882/514_4882_DOT_mp3_00025.flac     14.82        -1   \n",
      "46077           mnn_514_4885/514_4885_DOT_mp3_00006.flac     14.86        -1   \n",
      "46078           mnn_514_4788/514_4788_DOT_mp3_00015.flac     15.00        -1   \n",
      "46079           mnn_514_4904/514_4904_DOT_mp3_00019.flac     14.82        -1   \n",
      "\n",
      "                                                    text  \n",
      "0      are there any other comments but you would don...  \n",
      "1      i'm wondering what the references to policy ei...  \n",
      "2      that we create a whole volunteer policy last y...  \n",
      "3      bright line test that if you were alone with a...  \n",
      "4      a million dollars in our revenue with the two ...  \n",
      "...                                                  ...  \n",
      "46075  barbarian scythian slave free but christ is al...  \n",
      "46076  details of life but to focus upon the calmness...  \n",
      "46077  the cover on top of the tent as the lord had c...  \n",
      "46078  and was buried and rose again in the third day...  \n",
      "46079  there for these by sending down your spirit up...  \n",
      "\n",
      "[46080 rows x 4 columns]\n"
     ]
    },
    {
     "ename": "KeyboardInterrupt",
     "evalue": "",
     "output_type": "error",
     "traceback": [
      "\u001b[0;31m---------------------------------------------------------------------------\u001b[0m",
      "\u001b[0;31mKeyboardInterrupt\u001b[0m                         Traceback (most recent call last)",
      "\u001b[1;32m/home/knoriy/Documents/laion/split_peoples_speech/split_audio.ipynb Cell 11'\u001b[0m in \u001b[0;36m<cell line: 1>\u001b[0;34m()\u001b[0m\n\u001b[1;32m      <a href='vscode-notebook-cell:/home/knoriy/Documents/laion/split_peoples_speech/split_audio.ipynb#ch0000010?line=7'>8</a>\u001b[0m generate_subset_tsv \u001b[39m=\u001b[39m \u001b[39mTrue\u001b[39;00m\n\u001b[1;32m      <a href='vscode-notebook-cell:/home/knoriy/Documents/laion/split_peoples_speech/split_audio.ipynb#ch0000010?line=8'>9</a>\u001b[0m \u001b[39mif\u001b[39;00m generate_subset_tsv \u001b[39m==\u001b[39m \u001b[39mTrue\u001b[39;00m:\n\u001b[0;32m---> <a href='vscode-notebook-cell:/home/knoriy/Documents/laion/split_peoples_speech/split_audio.ipynb#ch0000010?line=9'>10</a>\u001b[0m     df \u001b[39m=\u001b[39m get_subset_df()\u001b[39m#.to_csv('/home/knoriy/Documents/laion/split_peoples_speech/subset.tsv', sep='\\t', header=None, index=False)\u001b[39;00m\n\u001b[1;32m     <a href='vscode-notebook-cell:/home/knoriy/Documents/laion/split_peoples_speech/split_audio.ipynb#ch0000010?line=10'>11</a>\u001b[0m \u001b[39mprint\u001b[39m(df)\n",
      "File \u001b[0;32m~/Documents/laion/split_peoples_speech/utils.py:19\u001b[0m, in \u001b[0;36mget_subset_df\u001b[0;34m(json_dir)\u001b[0m\n\u001b[1;32m     <a href='file:///home/knoriy/Documents/laion/split_peoples_speech/utils.py?line=15'>16</a>\u001b[0m df[\u001b[39m0\u001b[39m] \u001b[39m=\u001b[39m df[\u001b[39m0\u001b[39m]\u001b[39m.\u001b[39mapply(\u001b[39mlambda\u001b[39;00m x: ast\u001b[39m.\u001b[39mliteral_eval(x))\n\u001b[1;32m     <a href='file:///home/knoriy/Documents/laion/split_peoples_speech/utils.py?line=17'>18</a>\u001b[0m \u001b[39mfor\u001b[39;00m keys \u001b[39min\u001b[39;00m df[\u001b[39m0\u001b[39m][\u001b[39m0\u001b[39m]\u001b[39m.\u001b[39mkeys():\n\u001b[0;32m---> <a href='file:///home/knoriy/Documents/laion/split_peoples_speech/utils.py?line=18'>19</a>\u001b[0m     df[keys] \u001b[39m=\u001b[39m [path[\u001b[39m0\u001b[39m][keys] \u001b[39mfor\u001b[39;00m path \u001b[39min\u001b[39;00m df\u001b[39m.\u001b[39miloc()]\n\u001b[1;32m     <a href='file:///home/knoriy/Documents/laion/split_peoples_speech/utils.py?line=20'>21</a>\u001b[0m subset \u001b[39m=\u001b[39m glob\u001b[39m.\u001b[39mglob(\u001b[39m'\u001b[39m\u001b[39m/home/knoriy/Documents/laion/split_peoples_speech/subset/**/*.flac\u001b[39m\u001b[39m'\u001b[39m, recursive\u001b[39m=\u001b[39m\u001b[39mTrue\u001b[39;00m)\n\u001b[1;32m     <a href='file:///home/knoriy/Documents/laion/split_peoples_speech/utils.py?line=21'>22</a>\u001b[0m subset \u001b[39m=\u001b[39m [os\u001b[39m.\u001b[39mpath\u001b[39m.\u001b[39mjoin(\u001b[39m*\u001b[39m(\u001b[39mdir\u001b[39m\u001b[39m.\u001b[39msplit(os\u001b[39m.\u001b[39mpath\u001b[39m.\u001b[39msep)[\u001b[39m7\u001b[39m:])) \u001b[39mfor\u001b[39;00m \u001b[39mdir\u001b[39m \u001b[39min\u001b[39;00m subset]\n",
      "File \u001b[0;32m~/Documents/laion/split_peoples_speech/utils.py:19\u001b[0m, in \u001b[0;36m<listcomp>\u001b[0;34m(.0)\u001b[0m\n\u001b[1;32m     <a href='file:///home/knoriy/Documents/laion/split_peoples_speech/utils.py?line=15'>16</a>\u001b[0m df[\u001b[39m0\u001b[39m] \u001b[39m=\u001b[39m df[\u001b[39m0\u001b[39m]\u001b[39m.\u001b[39mapply(\u001b[39mlambda\u001b[39;00m x: ast\u001b[39m.\u001b[39mliteral_eval(x))\n\u001b[1;32m     <a href='file:///home/knoriy/Documents/laion/split_peoples_speech/utils.py?line=17'>18</a>\u001b[0m \u001b[39mfor\u001b[39;00m keys \u001b[39min\u001b[39;00m df[\u001b[39m0\u001b[39m][\u001b[39m0\u001b[39m]\u001b[39m.\u001b[39mkeys():\n\u001b[0;32m---> <a href='file:///home/knoriy/Documents/laion/split_peoples_speech/utils.py?line=18'>19</a>\u001b[0m     df[keys] \u001b[39m=\u001b[39m [path[\u001b[39m0\u001b[39;49m][keys] \u001b[39mfor\u001b[39;00m path \u001b[39min\u001b[39;00m df\u001b[39m.\u001b[39miloc()]\n\u001b[1;32m     <a href='file:///home/knoriy/Documents/laion/split_peoples_speech/utils.py?line=20'>21</a>\u001b[0m subset \u001b[39m=\u001b[39m glob\u001b[39m.\u001b[39mglob(\u001b[39m'\u001b[39m\u001b[39m/home/knoriy/Documents/laion/split_peoples_speech/subset/**/*.flac\u001b[39m\u001b[39m'\u001b[39m, recursive\u001b[39m=\u001b[39m\u001b[39mTrue\u001b[39;00m)\n\u001b[1;32m     <a href='file:///home/knoriy/Documents/laion/split_peoples_speech/utils.py?line=21'>22</a>\u001b[0m subset \u001b[39m=\u001b[39m [os\u001b[39m.\u001b[39mpath\u001b[39m.\u001b[39mjoin(\u001b[39m*\u001b[39m(\u001b[39mdir\u001b[39m\u001b[39m.\u001b[39msplit(os\u001b[39m.\u001b[39mpath\u001b[39m.\u001b[39msep)[\u001b[39m7\u001b[39m:])) \u001b[39mfor\u001b[39;00m \u001b[39mdir\u001b[39m \u001b[39min\u001b[39;00m subset]\n",
      "File \u001b[0;32m~/anaconda3/envs/aligner/lib/python3.10/site-packages/pandas/core/series.py:958\u001b[0m, in \u001b[0;36mSeries.__getitem__\u001b[0;34m(self, key)\u001b[0m\n\u001b[1;32m    <a href='file:///home/knoriy/anaconda3/envs/aligner/lib/python3.10/site-packages/pandas/core/series.py?line=954'>955</a>\u001b[0m     \u001b[39mreturn\u001b[39;00m \u001b[39mself\u001b[39m\u001b[39m.\u001b[39m_values[key]\n\u001b[1;32m    <a href='file:///home/knoriy/anaconda3/envs/aligner/lib/python3.10/site-packages/pandas/core/series.py?line=956'>957</a>\u001b[0m \u001b[39melif\u001b[39;00m key_is_scalar:\n\u001b[0;32m--> <a href='file:///home/knoriy/anaconda3/envs/aligner/lib/python3.10/site-packages/pandas/core/series.py?line=957'>958</a>\u001b[0m     \u001b[39mreturn\u001b[39;00m \u001b[39mself\u001b[39;49m\u001b[39m.\u001b[39;49m_get_value(key)\n\u001b[1;32m    <a href='file:///home/knoriy/anaconda3/envs/aligner/lib/python3.10/site-packages/pandas/core/series.py?line=959'>960</a>\u001b[0m \u001b[39mif\u001b[39;00m is_hashable(key):\n\u001b[1;32m    <a href='file:///home/knoriy/anaconda3/envs/aligner/lib/python3.10/site-packages/pandas/core/series.py?line=960'>961</a>\u001b[0m     \u001b[39m# Otherwise index.get_value will raise InvalidIndexError\u001b[39;00m\n\u001b[1;32m    <a href='file:///home/knoriy/anaconda3/envs/aligner/lib/python3.10/site-packages/pandas/core/series.py?line=961'>962</a>\u001b[0m     \u001b[39mtry\u001b[39;00m:\n\u001b[1;32m    <a href='file:///home/knoriy/anaconda3/envs/aligner/lib/python3.10/site-packages/pandas/core/series.py?line=962'>963</a>\u001b[0m         \u001b[39m# For labels that don't resolve as scalars like tuples and frozensets\u001b[39;00m\n",
      "File \u001b[0;32m~/anaconda3/envs/aligner/lib/python3.10/site-packages/pandas/core/series.py:1069\u001b[0m, in \u001b[0;36mSeries._get_value\u001b[0;34m(self, label, takeable)\u001b[0m\n\u001b[1;32m   <a href='file:///home/knoriy/anaconda3/envs/aligner/lib/python3.10/site-packages/pandas/core/series.py?line=1065'>1066</a>\u001b[0m     \u001b[39mreturn\u001b[39;00m \u001b[39mself\u001b[39m\u001b[39m.\u001b[39m_values[label]\n\u001b[1;32m   <a href='file:///home/knoriy/anaconda3/envs/aligner/lib/python3.10/site-packages/pandas/core/series.py?line=1067'>1068</a>\u001b[0m \u001b[39m# Similar to Index.get_value, but we do not fall back to positional\u001b[39;00m\n\u001b[0;32m-> <a href='file:///home/knoriy/anaconda3/envs/aligner/lib/python3.10/site-packages/pandas/core/series.py?line=1068'>1069</a>\u001b[0m loc \u001b[39m=\u001b[39m \u001b[39mself\u001b[39;49m\u001b[39m.\u001b[39;49mindex\u001b[39m.\u001b[39;49mget_loc(label)\n\u001b[1;32m   <a href='file:///home/knoriy/anaconda3/envs/aligner/lib/python3.10/site-packages/pandas/core/series.py?line=1069'>1070</a>\u001b[0m \u001b[39mreturn\u001b[39;00m \u001b[39mself\u001b[39m\u001b[39m.\u001b[39mindex\u001b[39m.\u001b[39m_get_values_for_loc(\u001b[39mself\u001b[39m, loc, label)\n",
      "File \u001b[0;32m~/anaconda3/envs/aligner/lib/python3.10/site-packages/pandas/core/indexes/base.py:3619\u001b[0m, in \u001b[0;36mIndex.get_loc\u001b[0;34m(self, key, method, tolerance)\u001b[0m\n\u001b[1;32m   <a href='file:///home/knoriy/anaconda3/envs/aligner/lib/python3.10/site-packages/pandas/core/indexes/base.py?line=3613'>3614</a>\u001b[0m \u001b[39mif\u001b[39;00m tolerance \u001b[39mis\u001b[39;00m \u001b[39mnot\u001b[39;00m \u001b[39mNone\u001b[39;00m:\n\u001b[1;32m   <a href='file:///home/knoriy/anaconda3/envs/aligner/lib/python3.10/site-packages/pandas/core/indexes/base.py?line=3614'>3615</a>\u001b[0m     \u001b[39mraise\u001b[39;00m \u001b[39mValueError\u001b[39;00m(\n\u001b[1;32m   <a href='file:///home/knoriy/anaconda3/envs/aligner/lib/python3.10/site-packages/pandas/core/indexes/base.py?line=3615'>3616</a>\u001b[0m         \u001b[39m\"\u001b[39m\u001b[39mtolerance argument only valid if using pad, \u001b[39m\u001b[39m\"\u001b[39m\n\u001b[1;32m   <a href='file:///home/knoriy/anaconda3/envs/aligner/lib/python3.10/site-packages/pandas/core/indexes/base.py?line=3616'>3617</a>\u001b[0m         \u001b[39m\"\u001b[39m\u001b[39mbackfill or nearest lookups\u001b[39m\u001b[39m\"\u001b[39m\n\u001b[1;32m   <a href='file:///home/knoriy/anaconda3/envs/aligner/lib/python3.10/site-packages/pandas/core/indexes/base.py?line=3617'>3618</a>\u001b[0m     )\n\u001b[0;32m-> <a href='file:///home/knoriy/anaconda3/envs/aligner/lib/python3.10/site-packages/pandas/core/indexes/base.py?line=3618'>3619</a>\u001b[0m casted_key \u001b[39m=\u001b[39m \u001b[39mself\u001b[39;49m\u001b[39m.\u001b[39;49m_maybe_cast_indexer(key)\n\u001b[1;32m   <a href='file:///home/knoriy/anaconda3/envs/aligner/lib/python3.10/site-packages/pandas/core/indexes/base.py?line=3619'>3620</a>\u001b[0m \u001b[39mtry\u001b[39;00m:\n\u001b[1;32m   <a href='file:///home/knoriy/anaconda3/envs/aligner/lib/python3.10/site-packages/pandas/core/indexes/base.py?line=3620'>3621</a>\u001b[0m     \u001b[39mreturn\u001b[39;00m \u001b[39mself\u001b[39m\u001b[39m.\u001b[39m_engine\u001b[39m.\u001b[39mget_loc(casted_key)\n",
      "File \u001b[0;32m~/anaconda3/envs/aligner/lib/python3.10/site-packages/pandas/core/indexes/base.py:6290\u001b[0m, in \u001b[0;36mIndex._maybe_cast_indexer\u001b[0;34m(self, key)\u001b[0m\n\u001b[1;32m   <a href='file:///home/knoriy/anaconda3/envs/aligner/lib/python3.10/site-packages/pandas/core/indexes/base.py?line=6284'>6285</a>\u001b[0m \u001b[39m\"\"\"\u001b[39;00m\n\u001b[1;32m   <a href='file:///home/knoriy/anaconda3/envs/aligner/lib/python3.10/site-packages/pandas/core/indexes/base.py?line=6285'>6286</a>\u001b[0m \u001b[39mIf we have a float key and are not a floating index, then try to cast\u001b[39;00m\n\u001b[1;32m   <a href='file:///home/knoriy/anaconda3/envs/aligner/lib/python3.10/site-packages/pandas/core/indexes/base.py?line=6286'>6287</a>\u001b[0m \u001b[39mto an int if equivalent.\u001b[39;00m\n\u001b[1;32m   <a href='file:///home/knoriy/anaconda3/envs/aligner/lib/python3.10/site-packages/pandas/core/indexes/base.py?line=6287'>6288</a>\u001b[0m \u001b[39m\"\"\"\u001b[39;00m\n\u001b[1;32m   <a href='file:///home/knoriy/anaconda3/envs/aligner/lib/python3.10/site-packages/pandas/core/indexes/base.py?line=6288'>6289</a>\u001b[0m \u001b[39mif\u001b[39;00m \u001b[39mnot\u001b[39;00m \u001b[39mself\u001b[39m\u001b[39m.\u001b[39mis_floating():\n\u001b[0;32m-> <a href='file:///home/knoriy/anaconda3/envs/aligner/lib/python3.10/site-packages/pandas/core/indexes/base.py?line=6289'>6290</a>\u001b[0m     \u001b[39mreturn\u001b[39;00m com\u001b[39m.\u001b[39;49mcast_scalar_indexer(key)\n\u001b[1;32m   <a href='file:///home/knoriy/anaconda3/envs/aligner/lib/python3.10/site-packages/pandas/core/indexes/base.py?line=6290'>6291</a>\u001b[0m \u001b[39mreturn\u001b[39;00m key\n",
      "File \u001b[0;32m~/anaconda3/envs/aligner/lib/python3.10/site-packages/pandas/core/common.py:175\u001b[0m, in \u001b[0;36mcast_scalar_indexer\u001b[0;34m(val, warn_float)\u001b[0m\n\u001b[1;32m    <a href='file:///home/knoriy/anaconda3/envs/aligner/lib/python3.10/site-packages/pandas/core/common.py?line=160'>161</a>\u001b[0m \u001b[39m\"\"\"\u001b[39;00m\n\u001b[1;32m    <a href='file:///home/knoriy/anaconda3/envs/aligner/lib/python3.10/site-packages/pandas/core/common.py?line=161'>162</a>\u001b[0m \u001b[39mTo avoid numpy DeprecationWarnings, cast float to integer where valid.\u001b[39;00m\n\u001b[1;32m    <a href='file:///home/knoriy/anaconda3/envs/aligner/lib/python3.10/site-packages/pandas/core/common.py?line=162'>163</a>\u001b[0m \n\u001b[0;32m   (...)\u001b[0m\n\u001b[1;32m    <a href='file:///home/knoriy/anaconda3/envs/aligner/lib/python3.10/site-packages/pandas/core/common.py?line=171'>172</a>\u001b[0m \u001b[39moutval : scalar\u001b[39;00m\n\u001b[1;32m    <a href='file:///home/knoriy/anaconda3/envs/aligner/lib/python3.10/site-packages/pandas/core/common.py?line=172'>173</a>\u001b[0m \u001b[39m\"\"\"\u001b[39;00m\n\u001b[1;32m    <a href='file:///home/knoriy/anaconda3/envs/aligner/lib/python3.10/site-packages/pandas/core/common.py?line=173'>174</a>\u001b[0m \u001b[39m# assumes lib.is_scalar(val)\u001b[39;00m\n\u001b[0;32m--> <a href='file:///home/knoriy/anaconda3/envs/aligner/lib/python3.10/site-packages/pandas/core/common.py?line=174'>175</a>\u001b[0m \u001b[39mif\u001b[39;00m lib\u001b[39m.\u001b[39;49mis_float(val) \u001b[39mand\u001b[39;00m val\u001b[39m.\u001b[39mis_integer():\n\u001b[1;32m    <a href='file:///home/knoriy/anaconda3/envs/aligner/lib/python3.10/site-packages/pandas/core/common.py?line=175'>176</a>\u001b[0m     \u001b[39mif\u001b[39;00m warn_float:\n\u001b[1;32m    <a href='file:///home/knoriy/anaconda3/envs/aligner/lib/python3.10/site-packages/pandas/core/common.py?line=176'>177</a>\u001b[0m         warnings\u001b[39m.\u001b[39mwarn(\n\u001b[1;32m    <a href='file:///home/knoriy/anaconda3/envs/aligner/lib/python3.10/site-packages/pandas/core/common.py?line=177'>178</a>\u001b[0m             \u001b[39m\"\u001b[39m\u001b[39mIndexing with a float is deprecated, and will raise an IndexError \u001b[39m\u001b[39m\"\u001b[39m\n\u001b[1;32m    <a href='file:///home/knoriy/anaconda3/envs/aligner/lib/python3.10/site-packages/pandas/core/common.py?line=178'>179</a>\u001b[0m             \u001b[39m\"\u001b[39m\u001b[39min pandas 2.0. You can manually convert to an integer key instead.\u001b[39m\u001b[39m\"\u001b[39m,\n\u001b[1;32m    <a href='file:///home/knoriy/anaconda3/envs/aligner/lib/python3.10/site-packages/pandas/core/common.py?line=179'>180</a>\u001b[0m             \u001b[39mFutureWarning\u001b[39;00m,\n\u001b[1;32m    <a href='file:///home/knoriy/anaconda3/envs/aligner/lib/python3.10/site-packages/pandas/core/common.py?line=180'>181</a>\u001b[0m             stacklevel\u001b[39m=\u001b[39mfind_stack_level(),\n\u001b[1;32m    <a href='file:///home/knoriy/anaconda3/envs/aligner/lib/python3.10/site-packages/pandas/core/common.py?line=181'>182</a>\u001b[0m         )\n",
      "\u001b[0;31mKeyboardInterrupt\u001b[0m: "
     ]
    }
   ],
   "source": [
    "with tarfile.open(filename,'r') as file_obj:\n",
    "    file_names_full_list = file_obj.getnames()\n",
    "\n",
    "    for i in range(0, len(file_names_full_list), chunk):\n",
    "        for file_name in file_names_full_list[i:i + chunk]:\n",
    "            file_obj.extract(file_name, './')\n",
    "\n",
    "        generate_subset_tsv = True\n",
    "        if generate_subset_tsv == True:\n",
    "            df = get_subset_df().to_csv(f'/home/knoriy/Documents/laion/split_peoples_speech/subset_{i}.tsv', sep='\\t', header=None, index=False)\n",
    "        # Save transcript to file\n",
    "        # txt_path = os.path.join(base_pps_dataset_path, f'{file_name.split(\".\")[0]}.txt')\n",
    "        # generate_txt(txt_path, \"Temp transcript\")\n",
    "        # warnings.warn('transcription is using temp text')\n",
    "        # save_all_text_to_file(df)\n",
    "\n",
    "        # Convert Flac to wav\n",
    "        # flac_path = os.path.join(base_pps_dataset_path, file_name)\n",
    "        # wav_path = os.path.join(base_pps_dataset_path, f'{file_name.split(\".\")[0]}.wav')\n",
    "        # flac_to_wav(file_name, wav_path, overwrite=True)\n",
    "        # convert_all_to_wav(df, base_pps_dataset_path)\n",
    "\n",
    "        # generate_textgrids(os.path.join(base_pps_dataset_path, 'mini_subset'))\n",
    "        # shutil.rmtree('/home/knoriy/Documents/laion/split_peoples_speech/mini_subset')"
   ]
  },
  {
   "cell_type": "code",
   "execution_count": 11,
   "metadata": {},
   "outputs": [
    {
     "name": "stdout",
     "output_type": "stream",
     "text": [
      "          0\n",
      "0  0.135243\n",
      "1  0.819354\n",
      "2  0.020243\n",
      "          0\n",
      "0  0.856007\n",
      "1  0.831876\n",
      "2  0.344182\n",
      "          0\n",
      "0  0.017545\n",
      "1  0.616152\n",
      "2  0.029083\n"
     ]
    }
   ],
   "source": [
    "with tarfile.open(filename,'r') as file_obj:\n",
    "    file_names_full_list = file_obj.members()\n",
    "    print(file_names_full_list)"
   ]
  },
  {
   "cell_type": "markdown",
   "metadata": {},
   "source": [
    "# AWS S3"
   ]
  },
  {
   "cell_type": "code",
   "execution_count": null,
   "metadata": {},
   "outputs": [],
   "source": [
    "%%bash\n",
    "\n",
    "nohup sh -c \"wget https://the-peoples-speech-west-europe.bj.bcebos.com/part-00000-07a8f0d3-6d27-4299-887a-dc12a6d72f8d-c000.tar?authorization=bce-auth-v1/0ef6765c1e494918bc0d4c3ca3e5c6d1/2021-12-03T06%3A30%3A22Z/-1/host/444b9c082ceffd10f38bb965679ed9ec12202836831e111dd193fde281062d26 -O - | aws s3 cp - s3://s-laion/peoples_speech/train_clean_pps.tar\" &;\n",
    "nohup sh -c \"wget https://the-peoples-speech-west-europe.bj.bcebos.com/part-00000-4e132642-c01c-4db6-9db0-a1e19193f6f8-c000.json?authorization=bce-auth-v1/0ef6765c1e494918bc0d4c3ca3e5c6d1/2021-12-03T06%3A31%3A22Z/-1/host/d7dacf3c31d2e3670d82727636ce234be27a9128df7a80883b84b4a3d8c7f6c0 -O - | aws s3 cp - s3://s-laion/peoples_speech/Manifest.json\" &;\n"
   ]
  },
  {
   "cell_type": "code",
   "execution_count": null,
   "metadata": {},
   "outputs": [],
   "source": [
    "%%bash\n",
    "\n",
    "nohup sh -c \"wget https://storage.googleapis.com/public-datasets-mswc/mswc.tar.gz -O - | aws s3 cp - s3://s-laion/multilingual_spoken_words/full_mswc.tar\" > full_mswc.out &\n",
    "nohup sh -c \"wget https://storage.googleapis.com/public-datasets-mswc/metadata.json.gz -O - | aws s3 cp - s3://s-laion/multilingual_spoken_words/metadata.tar\" > mswc_meta.out &\n",
    "\n"
   ]
  },
  {
   "cell_type": "code",
   "execution_count": null,
   "metadata": {},
   "outputs": [],
   "source": [
    "%%bash\n",
    "\n",
    "# nohup sh -c \"wget https://storage.googleapis.com/public-datasets-mswc/mswc.tar.gz -O - | aws s3 cp - s3://s-laion/multilingual_spoken_words/full_mswc.tar\" > full_mswc.out &\n",
    "# nohup sh -c \"wget https://storage.googleapis.com/public-datasets-mswc/metadata.json.gz -O - | aws s3 cp - s3://s-laion/multilingual_spoken_words/metadata.tar\" > mswc_meta.out &\n",
    "\n"
   ]
  },
  {
   "cell_type": "code",
   "execution_count": 3,
   "metadata": {},
   "outputs": [
    {
     "name": "stdout",
     "output_type": "stream",
     "text": [
      "/home/knoriy/Documents/laion/split_peoples_speech\n"
     ]
    },
    {
     "data": {
      "text/plain": [
       "0"
      ]
     },
     "execution_count": 3,
     "metadata": {},
     "output_type": "execute_result"
    }
   ],
   "source": [
    "import os\n",
    "os.system('pwd')"
   ]
  },
  {
   "cell_type": "code",
   "execution_count": 39,
   "metadata": {},
   "outputs": [
    {
     "ename": "ReadError",
     "evalue": "invalid header",
     "output_type": "error",
     "traceback": [
      "\u001b[0;31m---------------------------------------------------------------------------\u001b[0m",
      "\u001b[0;31mReadError\u001b[0m                                 Traceback (most recent call last)",
      "\u001b[1;32m/home/knoriy/Documents/laion/split_peoples_speech/split_audio.ipynb Cell 18'\u001b[0m in \u001b[0;36m<cell line: 6>\u001b[0;34m()\u001b[0m\n\u001b[1;32m      <a href='vscode-notebook-cell:/home/knoriy/Documents/laion/split_peoples_speech/split_audio.ipynb#ch0000017?line=1'>2</a>\u001b[0m \u001b[39mimport\u001b[39;00m \u001b[39mtarfile\u001b[39;00m\n\u001b[1;32m      <a href='vscode-notebook-cell:/home/knoriy/Documents/laion/split_peoples_speech/split_audio.ipynb#ch0000017?line=3'>4</a>\u001b[0m files \u001b[39m=\u001b[39m glob\u001b[39m.\u001b[39mglob(\u001b[39m'\u001b[39m\u001b[39m/home/knoriy/Documents/laion/split_peoples_speech/mini_subset_split/**/*.*\u001b[39m\u001b[39m'\u001b[39m)\n\u001b[0;32m----> <a href='vscode-notebook-cell:/home/knoriy/Documents/laion/split_peoples_speech/split_audio.ipynb#ch0000017?line=5'>6</a>\u001b[0m \u001b[39mwith\u001b[39;00m tarfile\u001b[39m.\u001b[39;49mopen(\u001b[39m'\u001b[39;49m\u001b[39m/home/knoriy/Documents/laion/split_peoples_speech/test.zip\u001b[39;49m\u001b[39m'\u001b[39;49m, mode\u001b[39m=\u001b[39;49m\u001b[39m'\u001b[39;49m\u001b[39ma\u001b[39;49m\u001b[39m'\u001b[39;49m) \u001b[39mas\u001b[39;00m src_file_obj:\n\u001b[1;32m      <a href='vscode-notebook-cell:/home/knoriy/Documents/laion/split_peoples_speech/split_audio.ipynb#ch0000017?line=6'>7</a>\u001b[0m     \u001b[39mfor\u001b[39;00m file \u001b[39min\u001b[39;00m files:\n\u001b[1;32m      <a href='vscode-notebook-cell:/home/knoriy/Documents/laion/split_peoples_speech/split_audio.ipynb#ch0000017?line=7'>8</a>\u001b[0m         src_file_obj\u001b[39m.\u001b[39madd(file)\n",
      "File \u001b[0;32m~/anaconda3/envs/aligner/lib/python3.10/tarfile.py:1662\u001b[0m, in \u001b[0;36mTarFile.open\u001b[0;34m(cls, name, mode, fileobj, bufsize, **kwargs)\u001b[0m\n\u001b[1;32m   <a href='file:///home/knoriy/anaconda3/envs/aligner/lib/python3.10/tarfile.py?line=1658'>1659</a>\u001b[0m     \u001b[39mreturn\u001b[39;00m t\n\u001b[1;32m   <a href='file:///home/knoriy/anaconda3/envs/aligner/lib/python3.10/tarfile.py?line=1660'>1661</a>\u001b[0m \u001b[39melif\u001b[39;00m mode \u001b[39min\u001b[39;00m (\u001b[39m\"\u001b[39m\u001b[39ma\u001b[39m\u001b[39m\"\u001b[39m, \u001b[39m\"\u001b[39m\u001b[39mw\u001b[39m\u001b[39m\"\u001b[39m, \u001b[39m\"\u001b[39m\u001b[39mx\u001b[39m\u001b[39m\"\u001b[39m):\n\u001b[0;32m-> <a href='file:///home/knoriy/anaconda3/envs/aligner/lib/python3.10/tarfile.py?line=1661'>1662</a>\u001b[0m     \u001b[39mreturn\u001b[39;00m \u001b[39mcls\u001b[39;49m\u001b[39m.\u001b[39;49mtaropen(name, mode, fileobj, \u001b[39m*\u001b[39;49m\u001b[39m*\u001b[39;49mkwargs)\n\u001b[1;32m   <a href='file:///home/knoriy/anaconda3/envs/aligner/lib/python3.10/tarfile.py?line=1663'>1664</a>\u001b[0m \u001b[39mraise\u001b[39;00m \u001b[39mValueError\u001b[39;00m(\u001b[39m\"\u001b[39m\u001b[39mundiscernible mode\u001b[39m\u001b[39m\"\u001b[39m)\n",
      "File \u001b[0;32m~/anaconda3/envs/aligner/lib/python3.10/tarfile.py:1672\u001b[0m, in \u001b[0;36mTarFile.taropen\u001b[0;34m(cls, name, mode, fileobj, **kwargs)\u001b[0m\n\u001b[1;32m   <a href='file:///home/knoriy/anaconda3/envs/aligner/lib/python3.10/tarfile.py?line=1669'>1670</a>\u001b[0m \u001b[39mif\u001b[39;00m mode \u001b[39mnot\u001b[39;00m \u001b[39min\u001b[39;00m (\u001b[39m\"\u001b[39m\u001b[39mr\u001b[39m\u001b[39m\"\u001b[39m, \u001b[39m\"\u001b[39m\u001b[39ma\u001b[39m\u001b[39m\"\u001b[39m, \u001b[39m\"\u001b[39m\u001b[39mw\u001b[39m\u001b[39m\"\u001b[39m, \u001b[39m\"\u001b[39m\u001b[39mx\u001b[39m\u001b[39m\"\u001b[39m):\n\u001b[1;32m   <a href='file:///home/knoriy/anaconda3/envs/aligner/lib/python3.10/tarfile.py?line=1670'>1671</a>\u001b[0m     \u001b[39mraise\u001b[39;00m \u001b[39mValueError\u001b[39;00m(\u001b[39m\"\u001b[39m\u001b[39mmode must be \u001b[39m\u001b[39m'\u001b[39m\u001b[39mr\u001b[39m\u001b[39m'\u001b[39m\u001b[39m, \u001b[39m\u001b[39m'\u001b[39m\u001b[39ma\u001b[39m\u001b[39m'\u001b[39m\u001b[39m, \u001b[39m\u001b[39m'\u001b[39m\u001b[39mw\u001b[39m\u001b[39m'\u001b[39m\u001b[39m or \u001b[39m\u001b[39m'\u001b[39m\u001b[39mx\u001b[39m\u001b[39m'\u001b[39m\u001b[39m\"\u001b[39m)\n\u001b[0;32m-> <a href='file:///home/knoriy/anaconda3/envs/aligner/lib/python3.10/tarfile.py?line=1671'>1672</a>\u001b[0m \u001b[39mreturn\u001b[39;00m \u001b[39mcls\u001b[39;49m(name, mode, fileobj, \u001b[39m*\u001b[39;49m\u001b[39m*\u001b[39;49mkwargs)\n",
      "File \u001b[0;32m~/anaconda3/envs/aligner/lib/python3.10/tarfile.py:1546\u001b[0m, in \u001b[0;36mTarFile.__init__\u001b[0;34m(self, name, mode, fileobj, format, tarinfo, dereference, ignore_zeros, encoding, errors, pax_headers, debug, errorlevel, copybufsize)\u001b[0m\n\u001b[1;32m   <a href='file:///home/knoriy/anaconda3/envs/aligner/lib/python3.10/tarfile.py?line=1543'>1544</a>\u001b[0m             \u001b[39mbreak\u001b[39;00m\n\u001b[1;32m   <a href='file:///home/knoriy/anaconda3/envs/aligner/lib/python3.10/tarfile.py?line=1544'>1545</a>\u001b[0m         \u001b[39mexcept\u001b[39;00m HeaderError \u001b[39mas\u001b[39;00m e:\n\u001b[0;32m-> <a href='file:///home/knoriy/anaconda3/envs/aligner/lib/python3.10/tarfile.py?line=1545'>1546</a>\u001b[0m             \u001b[39mraise\u001b[39;00m ReadError(\u001b[39mstr\u001b[39m(e)) \u001b[39mfrom\u001b[39;00m \u001b[39mNone\u001b[39m\n\u001b[1;32m   <a href='file:///home/knoriy/anaconda3/envs/aligner/lib/python3.10/tarfile.py?line=1547'>1548</a>\u001b[0m \u001b[39mif\u001b[39;00m \u001b[39mself\u001b[39m\u001b[39m.\u001b[39mmode \u001b[39min\u001b[39;00m (\u001b[39m\"\u001b[39m\u001b[39ma\u001b[39m\u001b[39m\"\u001b[39m, \u001b[39m\"\u001b[39m\u001b[39mw\u001b[39m\u001b[39m\"\u001b[39m, \u001b[39m\"\u001b[39m\u001b[39mx\u001b[39m\u001b[39m\"\u001b[39m):\n\u001b[1;32m   <a href='file:///home/knoriy/anaconda3/envs/aligner/lib/python3.10/tarfile.py?line=1548'>1549</a>\u001b[0m     \u001b[39mself\u001b[39m\u001b[39m.\u001b[39m_loaded \u001b[39m=\u001b[39m \u001b[39mTrue\u001b[39;00m\n",
      "\u001b[0;31mReadError\u001b[0m: invalid header"
     ]
    }
   ],
   "source": [
    "import glob\n",
    "import tarfile\n",
    "\n",
    "files = glob.glob('/home/knoriy/Documents/laion/split_peoples_speech/mini_subset_split/**/*.*')\n",
    "\n",
    "with tarfile.open('/home/knoriy/Documents/laion/split_peoples_speech/test.zip', mode='a') as src_file_obj:\n",
    "    for file in files:\n",
    "        src_file_obj.add(file)"
   ]
  },
  {
   "cell_type": "code",
   "execution_count": 30,
   "metadata": {},
   "outputs": [],
   "source": [
    "with tarfile.open('/home/knoriy/Documents/laion/split_peoples_speech/test.tar.xz', mode='w|xz') as src_file_obj:\n",
    "    src_file_obj.add('/home/knoriy/Documents/laion/split_peoples_speech/utils.py')"
   ]
  },
  {
   "cell_type": "code",
   "execution_count": null,
   "metadata": {},
   "outputs": [],
   "source": []
  }
 ],
 "metadata": {
  "kernelspec": {
   "display_name": "Python 3.10.2 ('aligner')",
   "language": "python",
   "name": "python3"
  },
  "language_info": {
   "codemirror_mode": {
    "name": "ipython",
    "version": 3
   },
   "file_extension": ".py",
   "mimetype": "text/x-python",
   "name": "python",
   "nbconvert_exporter": "python",
   "pygments_lexer": "ipython3",
   "version": "3.10.4"
  },
  "vscode": {
   "interpreter": {
    "hash": "e21918bae0143b5a633fbf1b4c6b5406aaf2f0d47fb4c4c8eb32f4c836e66610"
   }
  }
 },
 "nbformat": 4,
 "nbformat_minor": 4
}
