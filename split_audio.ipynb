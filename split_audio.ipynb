{
 "cells": [
  {
   "cell_type": "code",
   "execution_count": 1,
   "metadata": {},
   "outputs": [],
   "source": [
    "import os\n",
    "import glob\n",
    "import pandas as pd\n",
    "import textgrids\n",
    "import tqdm\n",
    "from utils import flac_to_wav"
   ]
  },
  {
   "cell_type": "markdown",
   "metadata": {},
   "source": [
    "# Create Subset json"
   ]
  },
  {
   "cell_type": "markdown",
   "metadata": {},
   "source": [
    "## Keep files in subset"
   ]
  },
  {
   "cell_type": "code",
   "execution_count": 7,
   "metadata": {},
   "outputs": [],
   "source": [
    "import ast\n",
    "\n",
    "\n",
    "def get_subset_df(json_dir=None):\n",
    "    if not json_dir:\n",
    "        json_dir = '/home/knoriy/Documents/laion/split_peoples_speech/flac_train_manifest.jsonl'\n",
    "\n",
    "    with open(json_dir, 'r') as json_file:\n",
    "        json_list = list(json_file)\n",
    "\n",
    "    df = pd.DataFrame.from_dict(json_list)\n",
    "    df[0] = df[0].apply(lambda x: ast.literal_eval(x))\n",
    "\n",
    "    for keys in df[0][0].keys():\n",
    "        df[keys] = [path[0][keys] for path in df.iloc()]\n",
    "\n",
    "    subset = glob.glob('/home/knoriy/Documents/laion/split_peoples_speech/subset/**/*.flac', recursive=True)\n",
    "    subset = [os.path.join(*(dir.split(os.path.sep)[7:])) for dir in subset]\n",
    "\n",
    "    subset_df = df[df['audio_filepath'].isin(subset)].reset_index(drop=True)\n",
    "    subset_df = subset_df.drop(0, axis=1)\n",
    "\n",
    "    return subset_df\n",
    "\n",
    "get_subset_df().to_csv('/home/knoriy/Documents/laion/split_peoples_speech/subset.tsv', sep='\\t', header=None, index=False)"
   ]
  },
  {
   "cell_type": "markdown",
   "metadata": {},
   "source": [
    "# prepare MFA"
   ]
  },
  {
   "cell_type": "code",
   "execution_count": 5,
   "metadata": {},
   "outputs": [],
   "source": [
    "# Clean old wavs ONLY FOR TESTING\n",
    "import glob\n",
    "\n",
    "old_wav_path = glob.glob(f'/home/knoriy/Documents/laion/split_peoples_speech/subset/**/*.wav', recursive=True)\n",
    "for wav_path in old_wav_path:\n",
    "    os.remove(wav_path)\n",
    "\n",
    "# old_txt_path = glob.glob(f'/home/knoriy/Documents/laion/split_peoples_speech/subset/**/*.txt', recursive=True)\n",
    "# for txt_path in old_txt_path:\n",
    "#     os.remove(txt_path)\n",
    "\n",
    "# old_txt_path = glob.glob(f'/home/knoriy/Documents/laion/split_peoples_speech/subset_split/**/*.txt', recursive=True)\n",
    "# for txt_path in old_txt_path:\n",
    "#     os.remove(txt_path)"
   ]
  },
  {
   "cell_type": "markdown",
   "metadata": {},
   "source": [
    "# Tar loader"
   ]
  },
  {
   "cell_type": "code",
   "execution_count": 1,
   "metadata": {},
   "outputs": [],
   "source": [
    "import tarfile"
   ]
  },
  {
   "cell_type": "code",
   "execution_count": 8,
   "metadata": {},
   "outputs": [],
   "source": [
    "filename = '/home/knoriy/Documents/laion/split_peoples_speech/subset_flac.tar'"
   ]
  },
  {
   "cell_type": "code",
   "execution_count": 10,
   "metadata": {},
   "outputs": [
    {
     "ename": "AttributeError",
     "evalue": "'NoneType' object has no attribute 'read'",
     "output_type": "error",
     "traceback": [
      "\u001b[0;31m---------------------------------------------------------------------------\u001b[0m",
      "\u001b[0;31mAttributeError\u001b[0m                            Traceback (most recent call last)",
      "\u001b[1;32m/home/knoriy/Documents/laion/split_peoples_speech/split_audio.ipynb Cell 10'\u001b[0m in \u001b[0;36m<cell line: 1>\u001b[0;34m()\u001b[0m\n\u001b[1;32m      <a href='vscode-notebook-cell:/home/knoriy/Documents/laion/split_peoples_speech/split_audio.ipynb#ch0000019?line=3'>4</a>\u001b[0m \u001b[39mfor\u001b[39;00m file_name \u001b[39min\u001b[39;00m file_names:\n\u001b[1;32m      <a href='vscode-notebook-cell:/home/knoriy/Documents/laion/split_peoples_speech/split_audio.ipynb#ch0000019?line=4'>5</a>\u001b[0m     file \u001b[39m=\u001b[39m file_obj\u001b[39m.\u001b[39mextractfile(file_name)\n\u001b[0;32m----> <a href='vscode-notebook-cell:/home/knoriy/Documents/laion/split_peoples_speech/split_audio.ipynb#ch0000019?line=5'>6</a>\u001b[0m     \u001b[39mprint\u001b[39m(file\u001b[39m.\u001b[39;49mread())\n",
      "\u001b[0;31mAttributeError\u001b[0m: 'NoneType' object has no attribute 'read'"
     ]
    }
   ],
   "source": [
    "with tarfile.open(filename,'r') as file_obj:\n",
    "    file_names = file_obj.getnames()[:10]\n",
    "\n",
    "    for file_name in file_names:\n",
    "        file = file_obj.extractfile(file_name)\n",
    "        print(file.read())"
   ]
  },
  {
   "cell_type": "code",
   "execution_count": null,
   "metadata": {},
   "outputs": [],
   "source": []
  }
 ],
 "metadata": {
  "kernelspec": {
   "display_name": "Python 3.10.2 ('aligner')",
   "language": "python",
   "name": "python3"
  },
  "language_info": {
   "codemirror_mode": {
    "name": "ipython",
    "version": 3
   },
   "file_extension": ".py",
   "mimetype": "text/x-python",
   "name": "python",
   "nbconvert_exporter": "python",
   "pygments_lexer": "ipython3",
   "version": "3.10.4"
  },
  "vscode": {
   "interpreter": {
    "hash": "e21918bae0143b5a633fbf1b4c6b5406aaf2f0d47fb4c4c8eb32f4c836e66610"
   }
  }
 },
 "nbformat": 4,
 "nbformat_minor": 4
}
