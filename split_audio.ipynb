{
 "cells": [
  {
   "cell_type": "code",
   "execution_count": 1,
   "metadata": {},
   "outputs": [],
   "source": [
    "import os\n",
    "import glob\n",
    "import pandas as pd\n",
    "import textgrids\n",
    "import tqdm\n",
    "from utils import flac_to_wav"
   ]
  },
  {
   "cell_type": "markdown",
   "metadata": {},
   "source": [
    "# Create Subset json"
   ]
  },
  {
   "cell_type": "markdown",
   "metadata": {},
   "source": [
    "## Keep files in subset"
   ]
  },
  {
   "cell_type": "code",
   "execution_count": 7,
   "metadata": {},
   "outputs": [],
   "source": [
    "import ast\n",
    "\n",
    "\n",
    "def get_subset_df(json_dir=None):\n",
    "    if not json_dir:\n",
    "        json_dir = '/home/knoriy/Documents/laion/split_peoples_speech/flac_train_manifest.jsonl'\n",
    "\n",
    "    with open(json_dir, 'r') as json_file:\n",
    "        json_list = list(json_file)\n",
    "\n",
    "    df = pd.DataFrame.from_dict(json_list)\n",
    "    df[0] = df[0].apply(lambda x: ast.literal_eval(x))\n",
    "\n",
    "    for keys in df[0][0].keys():\n",
    "        df[keys] = [path[0][keys] for path in df.iloc()]\n",
    "\n",
    "    subset = glob.glob('/home/knoriy/Documents/laion/split_peoples_speech/subset/**/*.flac', recursive=True)\n",
    "    subset = [os.path.join(*(dir.split(os.path.sep)[7:])) for dir in subset]\n",
    "\n",
    "    subset_df = df[df['audio_filepath'].isin(subset)].reset_index(drop=True)\n",
    "    subset_df = subset_df.drop(0, axis=1)\n",
    "\n",
    "    return subset_df\n",
    "\n",
    "get_subset_df().to_csv('/home/knoriy/Documents/laion/split_peoples_speech/subset.tsv', sep='\\t', header=None, index=False)"
   ]
  },
  {
   "cell_type": "markdown",
   "metadata": {},
   "source": [
    "# prepare MFA"
   ]
  },
  {
   "cell_type": "code",
   "execution_count": 59,
   "metadata": {},
   "outputs": [],
   "source": [
    "# Clean old wavs ONLY FOR TESTING\n",
    "import glob\n",
    "\n",
    "old_wav_path = glob.glob(f'/home/knoriy/Documents/laion/split_peoples_speech/subset/**/*.wav', recursive=True)\n",
    "for wav_path in old_wav_path:\n",
    "    os.remove(wav_path)\n",
    "\n",
    "# old_txt_path = glob.glob(f'/home/knoriy/Documents/laion/split_peoples_speech/subset/**/*.txt', recursive=True)\n",
    "# for txt_path in old_txt_path:\n",
    "#     os.remove(txt_path)\n",
    "\n",
    "# old_txt_path = glob.glob(f'/home/knoriy/Documents/laion/split_peoples_speech/subset_split/**/*.txt', recursive=True)\n",
    "# for txt_path in old_txt_path:\n",
    "#     os.remove(txt_path)"
   ]
  },
  {
   "cell_type": "code",
   "execution_count": 2,
   "metadata": {},
   "outputs": [],
   "source": [
    "def generate_txt(df):\n",
    "    for row in tqdm.tqdm(df.iloc, desc=\"Generating .txt files for MFA\"):\n",
    "        open(f'./subset/{row[\"audio_filepath\"].split(\".\")[0]}.txt', 'w').write(row['text'])"
   ]
  },
  {
   "cell_type": "markdown",
   "metadata": {},
   "source": [
    "## Generate TextGrid alignments"
   ]
  },
  {
   "cell_type": "code",
   "execution_count": 3,
   "metadata": {},
   "outputs": [],
   "source": [
    "def generate_alignments(src, dest, overwrite=True):\n",
    "    # if os.path.exists(dest): raise Warning(\"Desitination Folder already exists\")\n",
    "    os.system(f'mfa align --clean {src} english english {dest}')\n",
    "\n",
    "def generate_textgrids(dataset_root_path):\n",
    "    generate_alignments(dataset_root_path, f\"{dataset_root_path}_textgrids\")\n",
    "\n",
    "# generate_textgrids('/home/knoriy/Documents/laion/split_peoples_speech/subset/')"
   ]
  },
  {
   "cell_type": "markdown",
   "metadata": {},
   "source": [
    "# Split audio into 5-10 seconds"
   ]
  },
  {
   "cell_type": "code",
   "execution_count": 11,
   "metadata": {},
   "outputs": [],
   "source": [
    "def get_potential_splits(textgrid_words):\n",
    "\n",
    "    potential_split_points = []\n",
    "    for index, word in enumerate(textgrid_words):\n",
    "        if word.text != \"\":\n",
    "            continue\n",
    "        if word.xmin > 5 and word.xmax < 10: # find split that are longer than 5 sec and shorter than 10\n",
    "            potential_split_points.append(index)\n",
    "            # print(word.xmin, word.xmax)\n",
    "\n",
    "    return potential_split_points\n",
    "\n",
    "def get_longest_silance(textgrid_words):\n",
    "    potential_split_points = get_potential_splits(textgrid_words)\n",
    "\n",
    "    silance_length = 0\n",
    "    word_index = None\n",
    "    time = 0\n",
    "\n",
    "    for index in potential_split_points:\n",
    "        silance = textgrid_words[index]\n",
    "        \n",
    "        if (silance.xmax - silance.xmin) > silance_length:\n",
    "            silance_length = (silance.xmax - silance.xmin)\n",
    "            word_index = index\n",
    "\n",
    "            time = (silance.xmax + silance.xmin) / 2\n",
    "\n",
    "    return word_index, time"
   ]
  },
  {
   "cell_type": "code",
   "execution_count": 60,
   "metadata": {},
   "outputs": [],
   "source": [
    "def split_audio(root_textgrid_path, root_wav_path):\n",
    "    textgrid_paths = glob.glob(f'{root_textgrid_path}/**/*.TextGrid', recursive=True)\n",
    "\n",
    "    for path in tqdm.tqdm(textgrid_paths, desc='spliting flac files into 5-10 seconds'):\n",
    "        textgrid = textgrids.TextGrid(path)\n",
    "        textgrid_words = textgrid.get('words')\n",
    "\n",
    "        word_index, split_time = get_longest_silance(textgrid_words)\n",
    "\n",
    "        # get src path\n",
    "        wav_paths = os.path.split(path)\n",
    "        wav_file_name = f'{str(wav_paths[-1]).split(\".\")[0]}.flac'\n",
    "        wav_folder_name = os.path.split(wav_paths[0])[-1]\n",
    "\n",
    "        src_wav_path = os.path.join(root_wav_path, wav_folder_name, wav_file_name) # remove aligned and replace file extension\n",
    "\n",
    "        # create destinaltion path\n",
    "        processed_path = os.path.join(f'{root_wav_path}_split', wav_folder_name)\n",
    "        os.makedirs(processed_path, exist_ok=True)\n",
    "        dest_path = os.path.join(processed_path, f\"{wav_file_name}\")\n",
    "\n",
    "        # Split audio\n",
    "        returned_path = os.system(f\"ffmpeg -i {src_wav_path} -f segment -segment_times {split_time} {dest_path}_%02d.flac\")\n",
    "\n",
    "        # Split text\n",
    "        sentences = [[word.text for word in textgrid_words[:word_index]], [word.text for word in textgrid_words[word_index:]]]\n",
    "        for sentence in sentences:\n",
    "            with open(f'{dest_path}_%03d.txt', 'w') as file:\n",
    "                file.write(' '.join(sentence))\n",
    "\n"
   ]
  },
  {
   "cell_type": "code",
   "execution_count": 4,
   "metadata": {},
   "outputs": [
    {
     "name": "stdout",
     "output_type": "stream",
     "text": [
      "CPU times: user 797 ms, sys: 646 ms, total: 1.44 s\n",
      "Wall time: 457 ms\n"
     ]
    }
   ],
   "source": [
    "%%time\n",
    "\n",
    "import os\n",
    "import pandas as pd\n",
    "from utils import flac_to_wav\n",
    "import tqdm\n",
    "\n",
    "def main():\n",
    "    df = pd.read_csv('/home/knoriy/Documents/laion/split_peoples_speech/subset.tsv', names=[\"audio_filepath\",\"duration\", \"shard_id\", \"text\"], header=None, sep=\"\\t\")\n",
    "    base_pps_dataset_path = '/home/knoriy/Documents/laion/split_peoples_speech/subset'\n",
    "\n",
    "    # generate_txt(df)\n",
    "\n",
    "    # for row in tqdm.tqdm(df.iloc, desc=\"Converting .flac files to .wav\"):\n",
    "    #     flac_path = os.path.join(base_pps_dataset_path, f'{row[\"audio_filepath\"]}')\n",
    "    #     wav_path = os.path.join(base_pps_dataset_path, f'{row[\"audio_filepath\"].split(\".\")[0]}.wav')\n",
    "    #     flac_to_wav(flac_path, wav_path, overwrite=True, no_log=False)\n",
    "\n",
    "    # generate_textgrids(base_pps_dataset_path)\n",
    "    split_audio('/home/knoriy/Documents/laion/split_peoples_speech/subset_textgrids', base_pps_dataset_path)\n",
    "\n",
    "# main()\n"
   ]
  },
  {
   "cell_type": "markdown",
   "metadata": {},
   "source": [
    "# Tar loader"
   ]
  },
  {
   "cell_type": "code",
   "execution_count": 1,
   "metadata": {},
   "outputs": [],
   "source": [
    "import tarfile"
   ]
  },
  {
   "cell_type": "code",
   "execution_count": 2,
   "metadata": {},
   "outputs": [],
   "source": [
    "filename = '/home/knoriy/Downloads/subset_flac.tar'"
   ]
  },
  {
   "cell_type": "code",
   "execution_count": 4,
   "metadata": {},
   "outputs": [
    {
     "ename": "AttributeError",
     "evalue": "'list' object has no attribute 'islnk'",
     "output_type": "error",
     "traceback": [
      "\u001b[0;31m---------------------------------------------------------------------------\u001b[0m",
      "\u001b[0;31mAttributeError\u001b[0m                            Traceback (most recent call last)",
      "\u001b[1;32m/home/knoriy/Documents/laion/split_peoples_speech/split_audio.ipynb Cell 17'\u001b[0m in \u001b[0;36m<cell line: 1>\u001b[0;34m()\u001b[0m\n\u001b[1;32m      <a href='vscode-notebook-cell:/home/knoriy/Documents/laion/split_peoples_speech/split_audio.ipynb#ch0000019?line=0'>1</a>\u001b[0m \u001b[39mwith\u001b[39;00m tarfile\u001b[39m.\u001b[39mopen(filename,\u001b[39m'\u001b[39m\u001b[39mr\u001b[39m\u001b[39m'\u001b[39m) \u001b[39mas\u001b[39;00m file_obj:\n\u001b[1;32m      <a href='vscode-notebook-cell:/home/knoriy/Documents/laion/split_peoples_speech/split_audio.ipynb#ch0000019?line=1'>2</a>\u001b[0m     file_names \u001b[39m=\u001b[39m file_obj\u001b[39m.\u001b[39mgetnames()[\u001b[39m1\u001b[39m:]\n\u001b[0;32m----> <a href='vscode-notebook-cell:/home/knoriy/Documents/laion/split_peoples_speech/split_audio.ipynb#ch0000019?line=3'>4</a>\u001b[0m     file_obj\u001b[39m.\u001b[39;49mextract(file_names[:\u001b[39m10\u001b[39;49m])\n",
      "File \u001b[0;32m~/anaconda3/envs/aligner/lib/python3.10/tarfile.py:2086\u001b[0m, in \u001b[0;36mTarFile.extract\u001b[0;34m(self, member, path, set_attrs, numeric_owner)\u001b[0m\n\u001b[1;32m   <a href='file:///home/knoriy/anaconda3/envs/aligner/lib/python3.10/tarfile.py?line=2082'>2083</a>\u001b[0m     tarinfo \u001b[39m=\u001b[39m member\n\u001b[1;32m   <a href='file:///home/knoriy/anaconda3/envs/aligner/lib/python3.10/tarfile.py?line=2084'>2085</a>\u001b[0m \u001b[39m# Prepare the link target for makelink().\u001b[39;00m\n\u001b[0;32m-> <a href='file:///home/knoriy/anaconda3/envs/aligner/lib/python3.10/tarfile.py?line=2085'>2086</a>\u001b[0m \u001b[39mif\u001b[39;00m tarinfo\u001b[39m.\u001b[39;49mislnk():\n\u001b[1;32m   <a href='file:///home/knoriy/anaconda3/envs/aligner/lib/python3.10/tarfile.py?line=2086'>2087</a>\u001b[0m     tarinfo\u001b[39m.\u001b[39m_link_target \u001b[39m=\u001b[39m os\u001b[39m.\u001b[39mpath\u001b[39m.\u001b[39mjoin(path, tarinfo\u001b[39m.\u001b[39mlinkname)\n\u001b[1;32m   <a href='file:///home/knoriy/anaconda3/envs/aligner/lib/python3.10/tarfile.py?line=2088'>2089</a>\u001b[0m \u001b[39mtry\u001b[39;00m:\n",
      "\u001b[0;31mAttributeError\u001b[0m: 'list' object has no attribute 'islnk'"
     ]
    }
   ],
   "source": [
    "with tarfile.open(filename,'r') as file_obj:\n",
    "    file_names = file_obj.getnames()[1:]\n",
    "\n",
    "    file_obj.extract(file_names[:10])\n",
    "\n",
    "    # for file_name in file_names:\n",
    "    #     file = file_obj.extractfile(file_name)\n",
    "    #     # print(file.read())"
   ]
  },
  {
   "cell_type": "code",
   "execution_count": null,
   "metadata": {},
   "outputs": [],
   "source": []
  }
 ],
 "metadata": {
  "kernelspec": {
   "display_name": "Python 3.10.2 ('aligner')",
   "language": "python",
   "name": "python3"
  },
  "language_info": {
   "codemirror_mode": {
    "name": "ipython",
    "version": 3
   },
   "file_extension": ".py",
   "mimetype": "text/x-python",
   "name": "python",
   "nbconvert_exporter": "python",
   "pygments_lexer": "ipython3",
   "version": "3.10.4"
  },
  "vscode": {
   "interpreter": {
    "hash": "e21918bae0143b5a633fbf1b4c6b5406aaf2f0d47fb4c4c8eb32f4c836e66610"
   }
  }
 },
 "nbformat": 4,
 "nbformat_minor": 4
}
