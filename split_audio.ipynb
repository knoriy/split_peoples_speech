{
 "cells": [
  {
   "cell_type": "code",
   "execution_count": 1,
   "metadata": {},
   "outputs": [],
   "source": [
    "import os\n",
    "import glob\n",
    "import pandas as pd\n",
    "import textgrids\n",
    "import tqdm\n",
    "from utils import flac_to_wav"
   ]
  },
  {
   "cell_type": "markdown",
   "metadata": {},
   "source": [
    "# Create Subset json"
   ]
  },
  {
   "cell_type": "markdown",
   "metadata": {},
   "source": [
    "## Keep files in subset"
   ]
  },
  {
   "cell_type": "code",
   "execution_count": 3,
   "metadata": {},
   "outputs": [],
   "source": [
    "import ast\n",
    "\n",
    "\n",
    "def get_subset_df(json_dir=None):\n",
    "    if not json_dir:\n",
    "        json_dir = '/home/knoriy/Documents/laion/split_peoples_speech/flac_train_manifest.jsonl'\n",
    "\n",
    "    with open(json_dir, 'r') as json_file:\n",
    "        json_list = list(json_file)\n",
    "\n",
    "    df = pd.DataFrame.from_dict(json_list)\n",
    "    df[0] = df[0].apply(lambda x: ast.literal_eval(x))\n",
    "\n",
    "    for keys in df[0][0].keys():\n",
    "        df[keys] = [path[0][keys] for path in df.iloc()]\n",
    "\n",
    "    subset = glob.glob('/home/knoriy/Documents/laion/split_peoples_speech/subset/**/*.flac', recursive=True)\n",
    "    subset = [os.path.join(*(dir.split(os.path.sep)[7:])) for dir in subset]\n",
    "\n",
    "    subset_df = df[df['audio_filepath'].isin(subset)].reset_index(drop=True)\n",
    "    subset_df = subset_df.drop(0, axis=1)\n",
    "\n",
    "    return subset_df\n",
    "\n",
    "get_subset_df().to_csv('/home/knoriy/Documents/laion/split_peoples_speech/subset.tsv', sep='\\t', header=None, index=False)"
   ]
  },
  {
   "cell_type": "markdown",
   "metadata": {},
   "source": [
    "# prepare MFA"
   ]
  },
  {
   "cell_type": "code",
   "execution_count": 2,
   "metadata": {},
   "outputs": [],
   "source": [
    "# Clean old wavs ONLY FOR TESTING\n",
    "import glob\n",
    "\n",
    "old_wav_path = glob.glob(f'/home/knoriy/Documents/laion/split_peoples_speech/subset/**/*.wav', recursive=True)\n",
    "for wav_path in old_wav_path:\n",
    "    os.remove(wav_path)\n",
    "\n",
    "old_txt_path = glob.glob(f'/home/knoriy/Documents/laion/split_peoples_speech/subset/**/*.txt', recursive=True)\n",
    "for txt_path in old_txt_path:\n",
    "    os.remove(txt_path)"
   ]
  },
  {
   "cell_type": "code",
   "execution_count": 9,
   "metadata": {},
   "outputs": [],
   "source": [
    "def generate_txt(df):\n",
    "    for row in tqdm.tqdm(df.iloc, desc=\"Generating .txt files for MFA\"):\n",
    "        open(f'./subset/{row[\"audio_filepath\"].split(\".\")[0]}.txt', 'w').write(row['text'])"
   ]
  },
  {
   "cell_type": "code",
   "execution_count": 10,
   "metadata": {},
   "outputs": [],
   "source": [
    "# base_pps_dataset_path = '/home/knoriy/Documents/laion/split_peoples_speech/subset'\n",
    "\n",
    "# # Converting Flac to wav\n",
    "# for row in df.iloc:\n",
    "#     flac_path = os.path.join(base_pps_dataset_path, f'{row[0]}')\n",
    "#     wav_path = os.path.join(base_pps_dataset_path, f'{row[0].split(\".\")[0]}.wav')\n",
    "\n",
    "#     flac_to_wav(flac_path, wav_path, overwrite=True, no_log=False)"
   ]
  },
  {
   "cell_type": "markdown",
   "metadata": {},
   "source": [
    "## Generate TextGrid alignments"
   ]
  },
  {
   "cell_type": "code",
   "execution_count": 11,
   "metadata": {},
   "outputs": [],
   "source": [
    "def generate_alignments(src, dest, overwrite=True):\n",
    "    # if os.path.exists(dest): raise Warning(\"Desitination Folder already exists\")\n",
    "    os.system(f'mfa align --clean {src} english english {dest}')\n",
    "\n",
    "def generate_textgrids(dataset_root_path):\n",
    "    generate_alignments(dataset_root_path, f\"{dataset_root_path}_textgrids\")\n",
    "\n",
    "# generate_textgrids('/home/knoriy/Documents/laion/split_peoples_speech/subset/')"
   ]
  },
  {
   "cell_type": "markdown",
   "metadata": {},
   "source": [
    "# Split audio into 5-10 seconds"
   ]
  },
  {
   "cell_type": "code",
   "execution_count": 12,
   "metadata": {},
   "outputs": [],
   "source": [
    "def get_potential_splits(textgrid_words):\n",
    "\n",
    "    potential_split_points = []\n",
    "    for index, word in enumerate(textgrid_words):\n",
    "        if word.text != \"\":\n",
    "            continue\n",
    "        if word.xmin > 5 and word.xmax < 10: # find split that are longer than 5 sec and shorter than 10\n",
    "            potential_split_points.append(index)\n",
    "            # print(word.xmin, word.xmax)\n",
    "\n",
    "    return potential_split_points\n",
    "\n",
    "def get_longest_silance(textgrid_words):\n",
    "    potential_split_points = get_potential_splits(textgrid_words)\n",
    "\n",
    "    silance_length = 0\n",
    "    word_index = None\n",
    "    time = 0\n",
    "\n",
    "    for index in potential_split_points:\n",
    "        silance = textgrid_words[index]\n",
    "        \n",
    "        if (silance.xmax - silance.xmin) > silance_length:\n",
    "            silance_length = (silance.xmax - silance.xmin)\n",
    "            word_index = index\n",
    "\n",
    "            time = (silance.xmax + silance.xmin) / 2\n",
    "\n",
    "    return word_index, time"
   ]
  },
  {
   "cell_type": "code",
   "execution_count": 13,
   "metadata": {},
   "outputs": [],
   "source": [
    "def split_audio(root_textgrid_path, root_wav_path):\n",
    "    textgrid_paths = glob.glob(f'{root_textgrid_path}/**/*.TextGrid', recursive=True)\n",
    "\n",
    "    for path in tqdm.tqdm(textgrid_paths, desc='spliting flac files into 5-10 seconds'):\n",
    "        textgrid = textgrids.TextGrid(path)\n",
    "        split_time = get_longest_silance(textgrid.get('words'))[1]\n",
    "\n",
    "        # get src path\n",
    "        wav_paths = os.path.split(path)\n",
    "        wav_file_name = f'{str(wav_paths[-1]).split(\".\")[0]}.flac'\n",
    "        wav_folder_name = os.path.split(wav_paths[0])[-1]\n",
    "\n",
    "        src_wav_path = os.path.join(root_wav_path, wav_folder_name, wav_file_name) # remove aligned and replace file extension\n",
    "\n",
    "        # create destinaltion path\n",
    "        processed_path = os.path.join(f'{root_wav_path}_split', wav_folder_name)\n",
    "        os.makedirs(processed_path, exist_ok=True)\n",
    "        dest_path = os.path.join(processed_path, f\"{wav_file_name}_%03d.flac\")\n",
    "\n",
    "        # Split audio\n",
    "        os.system(f\"ffmpeg -i {src_wav_path} -f segment -segment_times {split_time} {dest_path}\")"
   ]
  },
  {
   "cell_type": "code",
   "execution_count": 14,
   "metadata": {},
   "outputs": [
    {
     "name": "stderr",
     "output_type": "stream",
     "text": [
      "Generating .txt files for MFA: 8412it [00:01, 6048.57it/s]"
     ]
    }
   ],
   "source": [
    "%%time\n",
    "\n",
    "import os\n",
    "import pandas as pd\n",
    "from utils import flac_to_wav\n",
    "import tqdm\n",
    "\n",
    "def main():\n",
    "    df = pd.read_csv('/home/knoriy/Documents/laion/split_peoples_speech/subset.tsv', names=[\"audio_filepath\",\"duration\", \"shard_id\", \"text\"], header=None, sep=\"\\t\")\n",
    "    base_pps_dataset_path = '/home/knoriy/Documents/laion/split_peoples_speech/subset'\n",
    "\n",
    "    generate_txt(df)\n",
    "\n",
    "    for row in tqdm.tqdm(df.iloc, desc=\"Converting .flac files to .wav\"):\n",
    "        flac_path = os.path.join(base_pps_dataset_path, f'{row[\"audio_filepath\"]}')\n",
    "        wav_path = os.path.join(base_pps_dataset_path, f'{row[\"audio_filepath\"].split(\".\")[0]}.wav')\n",
    "        flac_to_wav(flac_path, wav_path, overwrite=True, no_log=False)\n",
    "\n",
    "    generate_textgrids(base_pps_dataset_path)\n",
    "    split_audio('/home/knoriy/Documents/laion/split_peoples_speech/subset_textgrids', base_pps_dataset_path)\n",
    "\n",
    "main()\n"
   ]
  },
  {
   "cell_type": "code",
   "execution_count": null,
   "metadata": {},
   "outputs": [],
   "source": []
  }
 ],
 "metadata": {
  "kernelspec": {
   "display_name": "Python 3.10.2 ('aligner')",
   "language": "python",
   "name": "python3"
  },
  "language_info": {
   "codemirror_mode": {
    "name": "ipython",
    "version": 3
   },
   "file_extension": ".py",
   "mimetype": "text/x-python",
   "name": "python",
   "nbconvert_exporter": "python",
   "pygments_lexer": "ipython3",
   "version": "3.10.4"
  },
  "vscode": {
   "interpreter": {
    "hash": "e21918bae0143b5a633fbf1b4c6b5406aaf2f0d47fb4c4c8eb32f4c836e66610"
   }
  }
 },
 "nbformat": 4,
 "nbformat_minor": 4
}
