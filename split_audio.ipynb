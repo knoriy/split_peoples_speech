{
 "cells": [
  {
   "cell_type": "code",
   "execution_count": 7,
   "metadata": {},
   "outputs": [],
   "source": [
    "import os\n",
    "import glob\n",
    "import pandas as pd\n",
    "import textgrids\n",
    "import tqdm\n",
    "from utils import flac_to_wav"
   ]
  },
  {
   "cell_type": "markdown",
   "metadata": {},
   "source": [
    "# Create Subset json"
   ]
  },
  {
   "cell_type": "markdown",
   "metadata": {},
   "source": [
    "## Keep files in subset"
   ]
  },
  {
   "cell_type": "code",
   "execution_count": 53,
   "metadata": {},
   "outputs": [],
   "source": [
    "import ast\n",
    "import pandas as pd\n",
    "\n",
    "def genorate_pps_df(json_dir:str):\n",
    "    with open(json_dir, 'r') as json_file:\n",
    "        json_list = list(json_file)\n",
    "\n",
    "    df = pd.DataFrame.from_dict(json_list)\n",
    "    df[0] = df[0].apply(lambda x: ast.literal_eval(x))\n",
    "\n",
    "    for keys in df[0][0].keys():\n",
    "        df[keys] = [path[0][keys] for path in df.iloc()]\n",
    "    df = df.drop(0, axis=1)\n",
    "\n",
    "    df = df[['training_data']] # Keep only columbs that are needed to split\n",
    "    for keys in df['training_data'][0].keys():\n",
    "        df[keys] = [path[0][keys] for path in df.iloc()]\n",
    "    df = df[['label', 'name']] # Keep only columbs that are needed to split\n",
    "    #audio_path, duration, shard_id, text\n",
    "\n",
    "    subset_df = pd.DataFrame()\n",
    "\n",
    "    labels = []\n",
    "    names = []\n",
    "\n",
    "    for row in df.iloc():\n",
    "        label, name = row\n",
    "        for l, n in zip(label, name):\n",
    "            labels.append(l)\n",
    "            names.append(n)\n",
    "    \n",
    "    subset_df['audio_path'] = names\n",
    "    subset_df['text'] = labels\n",
    "\n",
    "    return subset_df\n",
    "names=['audio_path', 'text']\n",
    "names=None\n",
    "\n",
    "pps_df = pd.read_csv('/home/knoriy/split_peoples_speech/pps_train.tsv', sep='\\t', header=None, names=names)"
   ]
  },
  {
   "cell_type": "code",
   "execution_count": 54,
   "metadata": {},
   "outputs": [
    {
     "data": {
      "text/html": [
       "<div>\n",
       "<style scoped>\n",
       "    .dataframe tbody tr th:only-of-type {\n",
       "        vertical-align: middle;\n",
       "    }\n",
       "\n",
       "    .dataframe tbody tr th {\n",
       "        vertical-align: top;\n",
       "    }\n",
       "\n",
       "    .dataframe thead th {\n",
       "        text-align: right;\n",
       "    }\n",
       "</style>\n",
       "<table border=\"1\" class=\"dataframe\">\n",
       "  <thead>\n",
       "    <tr style=\"text-align: right;\">\n",
       "      <th></th>\n",
       "      <th>0</th>\n",
       "      <th>1</th>\n",
       "    </tr>\n",
       "  </thead>\n",
       "  <tbody>\n",
       "    <tr>\n",
       "      <th>0</th>\n",
       "      <td>gov_DOT_uscourts_DOT_ca9_DOT_04-56618/gov_DOT_...</td>\n",
       "      <td>is there anything to wear it on this one or ha...</td>\n",
       "    </tr>\n",
       "    <tr>\n",
       "      <th>1</th>\n",
       "      <td>gov_DOT_uscourts_DOT_ca9_DOT_04-56618/gov_DOT_...</td>\n",
       "      <td>i thought the law was that we don't have juris...</td>\n",
       "    </tr>\n",
       "    <tr>\n",
       "      <th>2</th>\n",
       "      <td>gov_DOT_uscourts_DOT_ca9_DOT_04-56618/gov_DOT_...</td>\n",
       "      <td>review it yes you do yes you do</td>\n",
       "    </tr>\n",
       "    <tr>\n",
       "      <th>3</th>\n",
       "      <td>gov_DOT_uscourts_DOT_ca9_DOT_04-56618/gov_DOT_...</td>\n",
       "      <td>this you know what happened there was a single...</td>\n",
       "    </tr>\n",
       "    <tr>\n",
       "      <th>4</th>\n",
       "      <td>gov_DOT_uscourts_DOT_ca9_DOT_04-56618/gov_DOT_...</td>\n",
       "      <td>motion to abandon the quantity because nothing...</td>\n",
       "    </tr>\n",
       "    <tr>\n",
       "      <th>...</th>\n",
       "      <td>...</td>\n",
       "      <td>...</td>\n",
       "    </tr>\n",
       "    <tr>\n",
       "      <th>4320997</th>\n",
       "      <td>The_Capture_movie/Capture_DOT_mp3_00011.flac</td>\n",
       "      <td>reward of all our marriage</td>\n",
       "    </tr>\n",
       "    <tr>\n",
       "      <th>4320998</th>\n",
       "      <td>The_Capture_movie/Capture_DOT_mp3_00012.flac</td>\n",
       "      <td>so i traveled back the way i'd come on it this...</td>\n",
       "    </tr>\n",
       "    <tr>\n",
       "      <th>4320999</th>\n",
       "      <td>The_Capture_movie/Capture_DOT_mp3_00013.flac</td>\n",
       "      <td>you state your business mister</td>\n",
       "    </tr>\n",
       "    <tr>\n",
       "      <th>4321000</th>\n",
       "      <td>The_Capture_movie/Capture_DOT_mp3_00014.flac</td>\n",
       "      <td>come out yet i don't want to be just that</td>\n",
       "    </tr>\n",
       "    <tr>\n",
       "      <th>4321001</th>\n",
       "      <td>The_Capture_movie/Capture_DOT_mp3_00015.flac</td>\n",
       "      <td>we're going to hire</td>\n",
       "    </tr>\n",
       "  </tbody>\n",
       "</table>\n",
       "<p>4321002 rows × 2 columns</p>\n",
       "</div>"
      ],
      "text/plain": [
       "                                                         0  \\\n",
       "0        gov_DOT_uscourts_DOT_ca9_DOT_04-56618/gov_DOT_...   \n",
       "1        gov_DOT_uscourts_DOT_ca9_DOT_04-56618/gov_DOT_...   \n",
       "2        gov_DOT_uscourts_DOT_ca9_DOT_04-56618/gov_DOT_...   \n",
       "3        gov_DOT_uscourts_DOT_ca9_DOT_04-56618/gov_DOT_...   \n",
       "4        gov_DOT_uscourts_DOT_ca9_DOT_04-56618/gov_DOT_...   \n",
       "...                                                    ...   \n",
       "4320997       The_Capture_movie/Capture_DOT_mp3_00011.flac   \n",
       "4320998       The_Capture_movie/Capture_DOT_mp3_00012.flac   \n",
       "4320999       The_Capture_movie/Capture_DOT_mp3_00013.flac   \n",
       "4321000       The_Capture_movie/Capture_DOT_mp3_00014.flac   \n",
       "4321001       The_Capture_movie/Capture_DOT_mp3_00015.flac   \n",
       "\n",
       "                                                         1  \n",
       "0        is there anything to wear it on this one or ha...  \n",
       "1        i thought the law was that we don't have juris...  \n",
       "2                          review it yes you do yes you do  \n",
       "3        this you know what happened there was a single...  \n",
       "4        motion to abandon the quantity because nothing...  \n",
       "...                                                    ...  \n",
       "4320997                         reward of all our marriage  \n",
       "4320998  so i traveled back the way i'd come on it this...  \n",
       "4320999                     you state your business mister  \n",
       "4321000          come out yet i don't want to be just that  \n",
       "4321001                                we're going to hire  \n",
       "\n",
       "[4321002 rows x 2 columns]"
      ]
     },
     "execution_count": 54,
     "metadata": {},
     "output_type": "execute_result"
    }
   ],
   "source": [
    "pps_df"
   ]
  },
  {
   "cell_type": "code",
   "execution_count": 55,
   "metadata": {},
   "outputs": [
    {
     "data": {
      "text/html": [
       "<div>\n",
       "<style scoped>\n",
       "    .dataframe tbody tr th:only-of-type {\n",
       "        vertical-align: middle;\n",
       "    }\n",
       "\n",
       "    .dataframe tbody tr th {\n",
       "        vertical-align: top;\n",
       "    }\n",
       "\n",
       "    .dataframe thead th {\n",
       "        text-align: right;\n",
       "    }\n",
       "</style>\n",
       "<table border=\"1\" class=\"dataframe\">\n",
       "  <thead>\n",
       "    <tr style=\"text-align: right;\">\n",
       "      <th></th>\n",
       "      <th>1</th>\n",
       "    </tr>\n",
       "  </thead>\n",
       "  <tbody>\n",
       "    <tr>\n",
       "      <th>0</th>\n",
       "      <td>members let us return to order that the it is ...</td>\n",
       "    </tr>\n",
       "    <tr>\n",
       "      <th>1</th>\n",
       "      <td>would ask mr buzz if he has any comments to sh...</td>\n",
       "    </tr>\n",
       "    <tr>\n",
       "      <th>2</th>\n",
       "      <td>its community development block grant program ...</td>\n",
       "    </tr>\n",
       "    <tr>\n",
       "      <th>3</th>\n",
       "      <td>patient our early on the projects that we've s...</td>\n",
       "    </tr>\n",
       "    <tr>\n",
       "      <th>4</th>\n",
       "      <td>thank you very much that's all chair thank yo...</td>\n",
       "    </tr>\n",
       "    <tr>\n",
       "      <th>...</th>\n",
       "      <td>...</td>\n",
       "    </tr>\n",
       "    <tr>\n",
       "      <th>95</th>\n",
       "      <td>cameras resist this set aside for future purch...</td>\n",
       "    </tr>\n",
       "    <tr>\n",
       "      <th>96</th>\n",
       "      <td>alarm system type components that are necessar...</td>\n",
       "    </tr>\n",
       "    <tr>\n",
       "      <th>97</th>\n",
       "      <td>that needed in your department chairman period...</td>\n",
       "    </tr>\n",
       "    <tr>\n",
       "      <th>98</th>\n",
       "      <td>don't have their own internal staff to be able...</td>\n",
       "    </tr>\n",
       "    <tr>\n",
       "      <th>99</th>\n",
       "      <td>five now that's currently handling a number of...</td>\n",
       "    </tr>\n",
       "  </tbody>\n",
       "</table>\n",
       "<p>100 rows × 1 columns</p>\n",
       "</div>"
      ],
      "text/plain": [
       "                                                    1\n",
       "0   members let us return to order that the it is ...\n",
       "1   would ask mr buzz if he has any comments to sh...\n",
       "2   its community development block grant program ...\n",
       "3   patient our early on the projects that we've s...\n",
       "4    thank you very much that's all chair thank yo...\n",
       "..                                                ...\n",
       "95  cameras resist this set aside for future purch...\n",
       "96  alarm system type components that are necessar...\n",
       "97  that needed in your department chairman period...\n",
       "98  don't have their own internal staff to be able...\n",
       "99  five now that's currently handling a number of...\n",
       "\n",
       "[100 rows x 1 columns]"
      ]
     },
     "execution_count": 55,
     "metadata": {},
     "output_type": "execute_result"
    }
   ],
   "source": [
    "def get_subset_df(dataset_root_path:str, df:pd.DataFrame):\n",
    "    subset = glob.glob(dataset_root_path, recursive=True)\n",
    "    subset = [os.path.join(*(dir.split(os.path.sep)[5:])) for dir in subset]\n",
    "\n",
    "    subset_df = df[df['audio_filepath'].isin(subset)].reset_index(drop=True)\n",
    "    subset_df = subset_df.drop(0, axis=1)\n",
    "\n",
    "    return subset_df\n",
    "\n",
    "root_path = '/home/knoriy/split_peoples_speech/'\n",
    "dataset_name = 'pps_train'\n",
    "dataset_root_path = os.path.join(root_path, f'{dataset_name}')\n",
    "\n",
    "import glob\n",
    "\n",
    "df = get_subset_df(f'{dataset_root_path}/**/*.flac', pps_df)\n",
    "df\n"
   ]
  },
  {
   "cell_type": "markdown",
   "metadata": {},
   "source": [
    "# prepare MFA"
   ]
  },
  {
   "cell_type": "code",
   "execution_count": 32,
   "metadata": {},
   "outputs": [],
   "source": [
    "# Clean old wavs ONLY FOR TESTING\n",
    "import glob\n",
    "\n",
    "old_wav_path = glob.glob(f'/home/knoriy/Documents/laion/split_peoples_speech/mini_subset/**/*.wav', recursive=True)\n",
    "for wav_path in old_wav_path:\n",
    "    os.remove(wav_path)\n",
    "\n",
    "# old_txt_path = glob.glob(f'/home/knoriy/Documents/laion/split_peoples_speech/subset/**/*.txt', recursive=True)\n",
    "# for txt_path in old_txt_path:\n",
    "#     os.remove(txt_path)\n",
    "\n",
    "# old_txt_path = glob.glob(f'/home/knoriy/Documents/laion/split_peoples_speech/subset_split/**/*.txt', recursive=True)\n",
    "# for txt_path in old_txt_path:\n",
    "#     os.remove(txt_path)"
   ]
  },
  {
   "cell_type": "markdown",
   "metadata": {},
   "source": [
    "# Tar loader"
   ]
  },
  {
   "cell_type": "markdown",
   "metadata": {},
   "source": [
    "# ToDo\n",
    "- [ ] Download and extract single or batch of files from aws\n",
    "- [ ] Process for MFA\n",
    "- [ ] Generate textgrid\n",
    "- [ ] Split audio and upload to aws s3"
   ]
  },
  {
   "cell_type": "markdown",
   "metadata": {},
   "source": [
    "# AWS S3"
   ]
  },
  {
   "cell_type": "code",
   "execution_count": null,
   "metadata": {},
   "outputs": [],
   "source": [
    "%%bash\n",
    "\n",
    "nohup sh -c \"wget https://the-peoples-speech-west-europe.bj.bcebos.com/part-00000-07a8f0d3-6d27-4299-887a-dc12a6d72f8d-c000.tar?authorization=bce-auth-v1/0ef6765c1e494918bc0d4c3ca3e5c6d1/2021-12-03T06%3A30%3A22Z/-1/host/444b9c082ceffd10f38bb965679ed9ec12202836831e111dd193fde281062d26 -O - | aws s3 cp - s3://s-laion/peoples_speech/train_clean_pps.tar\" &;\n",
    "nohup sh -c \"wget https://the-peoples-speech-west-europe.bj.bcebos.com/part-00000-4e132642-c01c-4db6-9db0-a1e19193f6f8-c000.json?authorization=bce-auth-v1/0ef6765c1e494918bc0d4c3ca3e5c6d1/2021-12-03T06%3A31%3A22Z/-1/host/d7dacf3c31d2e3670d82727636ce234be27a9128df7a80883b84b4a3d8c7f6c0 -O - | aws s3 cp - s3://s-laion/peoples_speech/Manifest.json\" &;\n"
   ]
  },
  {
   "cell_type": "code",
   "execution_count": null,
   "metadata": {},
   "outputs": [],
   "source": [
    "%%bash\n",
    "\n",
    "nohup sh -c \"wget https://storage.googleapis.com/public-datasets-mswc/mswc.tar.gz -O - | aws s3 cp - s3://s-laion/multilingual_spoken_words/full_mswc.tar\" > full_mswc.out &\n",
    "nohup sh -c \"wget https://storage.googleapis.com/public-datasets-mswc/metadata.json.gz -O - | aws s3 cp - s3://s-laion/multilingual_spoken_words/metadata.tar\" > mswc_meta.out &\n",
    "\n"
   ]
  },
  {
   "cell_type": "code",
   "execution_count": null,
   "metadata": {},
   "outputs": [],
   "source": [
    "%%bash\n",
    "\n",
    "# nohup sh -c \"wget https://storage.googleapis.com/public-datasets-mswc/mswc.tar.gz -O - | aws s3 cp - s3://s-laion/multilingual_spoken_words/full_mswc.tar\" > full_mswc.out &\n",
    "# nohup sh -c \"wget https://storage.googleapis.com/public-datasets-mswc/metadata.json.gz -O - | aws s3 cp - s3://s-laion/multilingual_spoken_words/metadata.tar\" > mswc_meta.out &\n",
    "\n"
   ]
  },
  {
   "cell_type": "code",
   "execution_count": 30,
   "metadata": {},
   "outputs": [
    {
     "name": "stdout",
     "output_type": "stream",
     "text": [
      "opening file: This may take some time\n",
      "\n"
     ]
    }
   ],
   "source": [
    "import tarfile\n",
    "\n",
    "metadata_dir = \"/mnt/knoriy/metadata.json\"\n",
    "tar_dir = \"/mnt/knoriy/pps_train.tar\"\n",
    "\n",
    "with tarfile.open(tar_dir, mode='r') as src_file_obj:\n",
    "    print('opening file: This may take some time\\n')\n",
    "\n",
    "    file_names_full_list = src_file_obj.getnames()\n",
    "    file_names_full_list = [i for i in file_names_full_list if '.flac' in i]"
   ]
  },
  {
   "cell_type": "code",
   "execution_count": 31,
   "metadata": {},
   "outputs": [
    {
     "data": {
      "text/plain": [
       "'CC20160404BudgetFinance2of2/CC-2016-0404-BudgetFinance_2of2_DOT_mp3_00000.flac'"
      ]
     },
     "execution_count": 31,
     "metadata": {},
     "output_type": "execute_result"
    }
   ],
   "source": [
    "file_names_full_list[0]"
   ]
  },
  {
   "cell_type": "code",
   "execution_count": null,
   "metadata": {},
   "outputs": [],
   "source": []
  }
 ],
 "metadata": {
  "interpreter": {
   "hash": "22598391661e11fb86220d8e605c241deaf9a8263a5dee63ccb3c05da51e658c"
  },
  "kernelspec": {
   "display_name": "Python 3.10.4 ('aligner')",
   "language": "python",
   "name": "python3"
  },
  "language_info": {
   "codemirror_mode": {
    "name": "ipython",
    "version": 3
   },
   "file_extension": ".py",
   "mimetype": "text/x-python",
   "name": "python",
   "nbconvert_exporter": "python",
   "pygments_lexer": "ipython3",
   "version": "3.10.4"
  },
  "vscode": {
   "interpreter": {
    "hash": "e21918bae0143b5a633fbf1b4c6b5406aaf2f0d47fb4c4c8eb32f4c836e66610"
   }
  }
 },
 "nbformat": 4,
 "nbformat_minor": 4
}
